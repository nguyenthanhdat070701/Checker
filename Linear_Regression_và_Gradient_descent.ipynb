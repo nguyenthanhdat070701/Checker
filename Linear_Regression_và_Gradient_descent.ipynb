{
  "nbformat": 4,
  "nbformat_minor": 0,
  "metadata": {
    "colab": {
      "name": "Linear Regression và Gradient descent.ipynb",
      "provenance": [],
      "collapsed_sections": [],
      "mount_file_id": "1S6c8SKY_QcXNkBcUSF6QabD7s4TDUjUE",
      "authorship_tag": "ABX9TyP37IalR0S/ljaYotxx53g7",
      "include_colab_link": true
    },
    "kernelspec": {
      "name": "python3",
      "display_name": "Python 3"
    },
    "language_info": {
      "name": "python"
    }
  },
  "cells": [
    {
      "cell_type": "markdown",
      "metadata": {
        "id": "view-in-github",
        "colab_type": "text"
      },
      "source": [
        "<a href=\"https://colab.research.google.com/github/nguyenthanhdat070701/Checker/blob/main/Linear_Regression_v%C3%A0_Gradient_descent.ipynb\" target=\"_parent\"><img src=\"https://colab.research.google.com/assets/colab-badge.svg\" alt=\"Open In Colab\"/></a>"
      ]
    },
    {
      "cell_type": "code",
      "metadata": {
        "colab": {
          "base_uri": "https://localhost:8080/"
        },
        "id": "eZL7s8281RIt",
        "outputId": "7c4b39b8-af62-495c-859c-c174c11c4d3b"
      },
      "source": [
        "from google.colab import drive\n",
        "drive.mount('/content/gdrive')"
      ],
      "execution_count": null,
      "outputs": [
        {
          "output_type": "stream",
          "text": [
            "Mounted at /content/gdrive\n"
          ],
          "name": "stdout"
        }
      ]
    },
    {
      "cell_type": "markdown",
      "metadata": {
        "id": "L3J9dplT1oBU"
      },
      "source": [
        "# import essential library"
      ]
    },
    {
      "cell_type": "code",
      "metadata": {
        "id": "zHqwamVP1mpg"
      },
      "source": [
        "import numpy as np\n",
        "import tensorflow as tf\n",
        "from tensorflow import keras\n"
      ],
      "execution_count": null,
      "outputs": []
    },
    {
      "cell_type": "code",
      "metadata": {
        "colab": {
          "base_uri": "https://localhost:8080/",
          "height": 297
        },
        "id": "IoD7uwQ82beO",
        "outputId": "eafb8475-edb3-4865-ab54-83ce3216d078"
      },
      "source": [
        "\n",
        "import numpy as np\n",
        "import pandas as pd\n",
        "import matplotlib.pyplot as plt\n",
        "# numOfPoint = 30\n",
        "# noise = np.random.normal(0,1,numOfPoint).reshape(-1,1)\n",
        "# x = np.linspace(30, 100, numOfPoint).reshape(-1,1)\n",
        "# N = x.shape[0]\n",
        "# y = 15*x + 8 + 20*noise\n",
        "# plt.scatter(x, y)\n",
        "\n",
        "data = pd.read_excel('/content/gdrive/MyDrive/AI_Lab9.3/dientich-giatien.xlsx').values\n",
        "N = data.shape[0]\n",
        "x = data[:, 0].reshape(-1, 1)\n",
        "y = data[:, 1].reshape(-1, 1)\n",
        "plt.scatter(x, y)\n",
        "plt.xlabel('mét vuông')\n",
        "plt.ylabel('giá')\n",
        "x = np.hstack((np.ones((N, 1)), x))\n",
        "w = np.array([0.,1.]).reshape(-1,1)\n",
        "numOfIteration = 100\n",
        "cost = np.zeros((numOfIteration,1))\n",
        "learning_rate = 0.000001\n",
        "for i in range(1, numOfIteration):\n",
        "    r = np.dot(x, w) - y   # mang do lech gia that va gia du doan neu w=[0,1]\n",
        "    cost[i] = 0.5*np.sum(r*r) #tong do lech tat ca diem du lieu cost= 1/2 *2*dolech \n",
        "    w[0] -= learning_rate*np.sum(r)\n",
        "    w[1] -= learning_rate*np.sum(np.multiply(r, x[:,1].reshape(-1,1)))\n",
        "predict = np.dot(x, w)\n",
        "plt.plot((x[0][1], x[N-1][1]),(predict[0], predict[N-1]), 'r')\n",
        "plt.show()\n",
        "\n",
        "x1 = 70\n",
        "y1 = w[0] + w[1] * x1\n",
        "print('Giá nhà cho 50m^2 là : ', y1)"
      ],
      "execution_count": null,
      "outputs": [
        {
          "output_type": "display_data",
          "data": {
            "image/png": "[encoded data removed]",
            "text/plain": [
              "<Figure size 432x288 with 1 Axes>"
            ]
          },
          "metadata": {
            "needs_background": "light"
          }
        },
        {
          "output_type": "stream",
          "text": [
            "Giá nhà cho 50m^2 là :  [1057.88523787]\n"
          ],
          "name": "stdout"
        }
      ]
    }
  ]
}